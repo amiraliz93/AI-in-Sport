{
 "cells": [
  {
   "cell_type": "code",
   "execution_count": 1,
   "metadata": {},
   "outputs": [],
   "source": [
    "import numpy as np\n",
    "import pandas as pd\n",
    "import matplotlib.pyplot as plt\n",
    "import sqlite3\n",
    "from sklearn.cluster import KMeans\n",
    "from sklearn.preprocessing import scale \n",
    "import seaborn as sns\n",
    "from sklearn.preprocessing import StandardScaler\n",
    "import datetime as dt\n",
    "import datetime\n",
    "from sklearn.model_selection import train_test_split\n",
    "from sklearn.linear_model import LinearRegression  \n",
    "from sklearn.linear_model import LogisticRegression\n",
    "from sklearn.tree import DecisionTreeRegressor\n",
    "from sklearn import model_selection\n",
    "from sklearn.metrics import accuracy_score\n",
    "import timeit\n",
    "from sklearn.metrics import mean_squared_error, r2_score\n",
    "import math\n",
    "from sklearn.ensemble import RandomForestClassifier, AdaBoostClassifier\n",
    "from sklearn.tree import DecisionTreeClassifier\n",
    "from sklearn.naive_bayes import GaussianNB\n",
    "from sklearn.metrics import silhouette_score\n",
    "from sklearn.metrics import silhouette_samples"
   ]
  },
  {
   "cell_type": "code",
   "execution_count": 2,
   "metadata": {},
   "outputs": [],
   "source": [
    "# import and Read data \n",
    "database = 'C:\\\\Users\\\\Lenovo\\\\Downloads\\\\datasets\\\\database.sqlite'\n",
    "conn = sqlite3.connect(database)"
   ]
  },
  {
   "cell_type": "code",
   "execution_count": 3,
   "metadata": {},
   "outputs": [
    {
     "data": {
      "text/html": [
       "<div>\n",
       "<style scoped>\n",
       "    .dataframe tbody tr th:only-of-type {\n",
       "        vertical-align: middle;\n",
       "    }\n",
       "\n",
       "    .dataframe tbody tr th {\n",
       "        vertical-align: top;\n",
       "    }\n",
       "\n",
       "    .dataframe thead th {\n",
       "        text-align: right;\n",
       "    }\n",
       "</style>\n",
       "<table border=\"1\" class=\"dataframe\">\n",
       "  <thead>\n",
       "    <tr style=\"text-align: right;\">\n",
       "      <th></th>\n",
       "      <th>TablasBD</th>\n",
       "    </tr>\n",
       "  </thead>\n",
       "  <tbody>\n",
       "    <tr>\n",
       "      <th>0</th>\n",
       "      <td>sqlite_sequence</td>\n",
       "    </tr>\n",
       "    <tr>\n",
       "      <th>1</th>\n",
       "      <td>Player_Attributes</td>\n",
       "    </tr>\n",
       "    <tr>\n",
       "      <th>2</th>\n",
       "      <td>Player</td>\n",
       "    </tr>\n",
       "    <tr>\n",
       "      <th>3</th>\n",
       "      <td>Match</td>\n",
       "    </tr>\n",
       "    <tr>\n",
       "      <th>4</th>\n",
       "      <td>League</td>\n",
       "    </tr>\n",
       "    <tr>\n",
       "      <th>5</th>\n",
       "      <td>Country</td>\n",
       "    </tr>\n",
       "    <tr>\n",
       "      <th>6</th>\n",
       "      <td>Team</td>\n",
       "    </tr>\n",
       "    <tr>\n",
       "      <th>7</th>\n",
       "      <td>Team_Attributes</td>\n",
       "    </tr>\n",
       "  </tbody>\n",
       "</table>\n",
       "</div>"
      ],
      "text/plain": [
       "            TablasBD\n",
       "0    sqlite_sequence\n",
       "1  Player_Attributes\n",
       "2             Player\n",
       "3              Match\n",
       "4             League\n",
       "5            Country\n",
       "6               Team\n",
       "7    Team_Attributes"
      ]
     },
     "execution_count": 3,
     "metadata": {},
     "output_type": "execute_result"
    }
   ],
   "source": [
    "query = \"SELECT name as TablasBD FROM sqlite_master WHERE type='table';\"\n",
    "table_soccer = pd.read_sql(query, conn)\n",
    "table_soccer"
   ]
  },
  {
   "cell_type": "code",
   "execution_count": 4,
   "metadata": {},
   "outputs": [],
   "source": [
    "df = pd.read_sql(\"SELECT * FROM Match;\", conn)"
   ]
  },
  {
   "cell_type": "code",
   "execution_count": 5,
   "metadata": {},
   "outputs": [
    {
     "data": {
      "text/plain": [
       "(25979, 115)"
      ]
     },
     "execution_count": 5,
     "metadata": {},
     "output_type": "execute_result"
    }
   ],
   "source": [
    "df.shape"
   ]
  },
  {
   "cell_type": "code",
   "execution_count": 6,
   "metadata": {},
   "outputs": [
    {
     "data": {
      "text/html": [
       "<div>\n",
       "<style scoped>\n",
       "    .dataframe tbody tr th:only-of-type {\n",
       "        vertical-align: middle;\n",
       "    }\n",
       "\n",
       "    .dataframe tbody tr th {\n",
       "        vertical-align: top;\n",
       "    }\n",
       "\n",
       "    .dataframe thead th {\n",
       "        text-align: right;\n",
       "    }\n",
       "</style>\n",
       "<table border=\"1\" class=\"dataframe\">\n",
       "  <thead>\n",
       "    <tr style=\"text-align: right;\">\n",
       "      <th></th>\n",
       "      <th>count</th>\n",
       "      <th>mean</th>\n",
       "      <th>std</th>\n",
       "      <th>min</th>\n",
       "      <th>25%</th>\n",
       "      <th>50%</th>\n",
       "      <th>75%</th>\n",
       "      <th>max</th>\n",
       "    </tr>\n",
       "  </thead>\n",
       "  <tbody>\n",
       "    <tr>\n",
       "      <th>id</th>\n",
       "      <td>25979.0</td>\n",
       "      <td>1.299000e+04</td>\n",
       "      <td>7499.635658</td>\n",
       "      <td>1.00</td>\n",
       "      <td>6495.50</td>\n",
       "      <td>12990.0</td>\n",
       "      <td>19484.50</td>\n",
       "      <td>25979.0</td>\n",
       "    </tr>\n",
       "    <tr>\n",
       "      <th>country_id</th>\n",
       "      <td>25979.0</td>\n",
       "      <td>1.173863e+04</td>\n",
       "      <td>7553.936759</td>\n",
       "      <td>1.00</td>\n",
       "      <td>4769.00</td>\n",
       "      <td>10257.0</td>\n",
       "      <td>17642.00</td>\n",
       "      <td>24558.0</td>\n",
       "    </tr>\n",
       "    <tr>\n",
       "      <th>league_id</th>\n",
       "      <td>25979.0</td>\n",
       "      <td>1.173863e+04</td>\n",
       "      <td>7553.936759</td>\n",
       "      <td>1.00</td>\n",
       "      <td>4769.00</td>\n",
       "      <td>10257.0</td>\n",
       "      <td>17642.00</td>\n",
       "      <td>24558.0</td>\n",
       "    </tr>\n",
       "    <tr>\n",
       "      <th>stage</th>\n",
       "      <td>25979.0</td>\n",
       "      <td>1.824277e+01</td>\n",
       "      <td>10.407354</td>\n",
       "      <td>1.00</td>\n",
       "      <td>9.00</td>\n",
       "      <td>18.0</td>\n",
       "      <td>27.00</td>\n",
       "      <td>38.0</td>\n",
       "    </tr>\n",
       "    <tr>\n",
       "      <th>match_api_id</th>\n",
       "      <td>25979.0</td>\n",
       "      <td>1.195429e+06</td>\n",
       "      <td>494627.856527</td>\n",
       "      <td>483129.00</td>\n",
       "      <td>768436.50</td>\n",
       "      <td>1147511.0</td>\n",
       "      <td>1709852.50</td>\n",
       "      <td>2216672.0</td>\n",
       "    </tr>\n",
       "    <tr>\n",
       "      <th>...</th>\n",
       "      <td>...</td>\n",
       "      <td>...</td>\n",
       "      <td>...</td>\n",
       "      <td>...</td>\n",
       "      <td>...</td>\n",
       "      <td>...</td>\n",
       "      <td>...</td>\n",
       "      <td>...</td>\n",
       "    </tr>\n",
       "    <tr>\n",
       "      <th>GBD</th>\n",
       "      <td>14162.0</td>\n",
       "      <td>3.648189e+00</td>\n",
       "      <td>0.867440</td>\n",
       "      <td>1.45</td>\n",
       "      <td>3.20</td>\n",
       "      <td>3.3</td>\n",
       "      <td>3.75</td>\n",
       "      <td>11.0</td>\n",
       "    </tr>\n",
       "    <tr>\n",
       "      <th>GBA</th>\n",
       "      <td>14162.0</td>\n",
       "      <td>4.353097e+00</td>\n",
       "      <td>3.010189</td>\n",
       "      <td>1.12</td>\n",
       "      <td>2.50</td>\n",
       "      <td>3.4</td>\n",
       "      <td>5.00</td>\n",
       "      <td>34.0</td>\n",
       "    </tr>\n",
       "    <tr>\n",
       "      <th>BSH</th>\n",
       "      <td>14161.0</td>\n",
       "      <td>2.497894e+00</td>\n",
       "      <td>1.507793</td>\n",
       "      <td>1.04</td>\n",
       "      <td>1.67</td>\n",
       "      <td>2.1</td>\n",
       "      <td>2.62</td>\n",
       "      <td>17.0</td>\n",
       "    </tr>\n",
       "    <tr>\n",
       "      <th>BSD</th>\n",
       "      <td>14161.0</td>\n",
       "      <td>3.660742e+00</td>\n",
       "      <td>0.868272</td>\n",
       "      <td>1.33</td>\n",
       "      <td>3.25</td>\n",
       "      <td>3.4</td>\n",
       "      <td>3.75</td>\n",
       "      <td>13.0</td>\n",
       "    </tr>\n",
       "    <tr>\n",
       "      <th>BSA</th>\n",
       "      <td>14161.0</td>\n",
       "      <td>4.405663e+00</td>\n",
       "      <td>3.189814</td>\n",
       "      <td>1.12</td>\n",
       "      <td>2.50</td>\n",
       "      <td>3.4</td>\n",
       "      <td>5.00</td>\n",
       "      <td>34.0</td>\n",
       "    </tr>\n",
       "  </tbody>\n",
       "</table>\n",
       "<p>105 rows × 8 columns</p>\n",
       "</div>"
      ],
      "text/plain": [
       "                count          mean            std        min        25%  \\\n",
       "id            25979.0  1.299000e+04    7499.635658       1.00    6495.50   \n",
       "country_id    25979.0  1.173863e+04    7553.936759       1.00    4769.00   \n",
       "league_id     25979.0  1.173863e+04    7553.936759       1.00    4769.00   \n",
       "stage         25979.0  1.824277e+01      10.407354       1.00       9.00   \n",
       "match_api_id  25979.0  1.195429e+06  494627.856527  483129.00  768436.50   \n",
       "...               ...           ...            ...        ...        ...   \n",
       "GBD           14162.0  3.648189e+00       0.867440       1.45       3.20   \n",
       "GBA           14162.0  4.353097e+00       3.010189       1.12       2.50   \n",
       "BSH           14161.0  2.497894e+00       1.507793       1.04       1.67   \n",
       "BSD           14161.0  3.660742e+00       0.868272       1.33       3.25   \n",
       "BSA           14161.0  4.405663e+00       3.189814       1.12       2.50   \n",
       "\n",
       "                    50%         75%        max  \n",
       "id              12990.0    19484.50    25979.0  \n",
       "country_id      10257.0    17642.00    24558.0  \n",
       "league_id       10257.0    17642.00    24558.0  \n",
       "stage              18.0       27.00       38.0  \n",
       "match_api_id  1147511.0  1709852.50  2216672.0  \n",
       "...                 ...         ...        ...  \n",
       "GBD                 3.3        3.75       11.0  \n",
       "GBA                 3.4        5.00       34.0  \n",
       "BSH                 2.1        2.62       17.0  \n",
       "BSD                 3.4        3.75       13.0  \n",
       "BSA                 3.4        5.00       34.0  \n",
       "\n",
       "[105 rows x 8 columns]"
      ]
     },
     "execution_count": 6,
     "metadata": {},
     "output_type": "execute_result"
    }
   ],
   "source": [
    "# a owerview of our dataset \n",
    "df.describe().transpose()"
   ]
  },
  {
   "cell_type": "code",
   "execution_count": 7,
   "metadata": {},
   "outputs": [
    {
     "data": {
      "text/html": [
       "<div>\n",
       "<style scoped>\n",
       "    .dataframe tbody tr th:only-of-type {\n",
       "        vertical-align: middle;\n",
       "    }\n",
       "\n",
       "    .dataframe tbody tr th {\n",
       "        vertical-align: top;\n",
       "    }\n",
       "\n",
       "    .dataframe thead th {\n",
       "        text-align: right;\n",
       "    }\n",
       "</style>\n",
       "<table border=\"1\" class=\"dataframe\">\n",
       "  <thead>\n",
       "    <tr style=\"text-align: right;\">\n",
       "      <th></th>\n",
       "      <th>id</th>\n",
       "      <th>country_id</th>\n",
       "      <th>league_id</th>\n",
       "      <th>stage</th>\n",
       "      <th>match_api_id</th>\n",
       "      <th>home_team_api_id</th>\n",
       "      <th>away_team_api_id</th>\n",
       "      <th>home_team_goal</th>\n",
       "      <th>away_team_goal</th>\n",
       "      <th>home_player_X1</th>\n",
       "      <th>...</th>\n",
       "      <th>SJA</th>\n",
       "      <th>VCH</th>\n",
       "      <th>VCD</th>\n",
       "      <th>VCA</th>\n",
       "      <th>GBH</th>\n",
       "      <th>GBD</th>\n",
       "      <th>GBA</th>\n",
       "      <th>BSH</th>\n",
       "      <th>BSD</th>\n",
       "      <th>BSA</th>\n",
       "    </tr>\n",
       "  </thead>\n",
       "  <tbody>\n",
       "    <tr>\n",
       "      <th>count</th>\n",
       "      <td>25979.000000</td>\n",
       "      <td>25979.000000</td>\n",
       "      <td>25979.000000</td>\n",
       "      <td>25979.000000</td>\n",
       "      <td>2.597900e+04</td>\n",
       "      <td>25979.000000</td>\n",
       "      <td>25979.000000</td>\n",
       "      <td>25979.000000</td>\n",
       "      <td>25979.000000</td>\n",
       "      <td>24158.000000</td>\n",
       "      <td>...</td>\n",
       "      <td>17097.000000</td>\n",
       "      <td>22568.000000</td>\n",
       "      <td>22568.000000</td>\n",
       "      <td>22568.000000</td>\n",
       "      <td>14162.000000</td>\n",
       "      <td>14162.000000</td>\n",
       "      <td>14162.000000</td>\n",
       "      <td>14161.000000</td>\n",
       "      <td>14161.000000</td>\n",
       "      <td>14161.000000</td>\n",
       "    </tr>\n",
       "    <tr>\n",
       "      <th>mean</th>\n",
       "      <td>12990.000000</td>\n",
       "      <td>11738.630317</td>\n",
       "      <td>11738.630317</td>\n",
       "      <td>18.242773</td>\n",
       "      <td>1.195429e+06</td>\n",
       "      <td>9984.371993</td>\n",
       "      <td>9984.475115</td>\n",
       "      <td>1.544594</td>\n",
       "      <td>1.160938</td>\n",
       "      <td>0.999586</td>\n",
       "      <td>...</td>\n",
       "      <td>4.622343</td>\n",
       "      <td>2.668107</td>\n",
       "      <td>3.899048</td>\n",
       "      <td>4.840281</td>\n",
       "      <td>2.498764</td>\n",
       "      <td>3.648189</td>\n",
       "      <td>4.353097</td>\n",
       "      <td>2.497894</td>\n",
       "      <td>3.660742</td>\n",
       "      <td>4.405663</td>\n",
       "    </tr>\n",
       "    <tr>\n",
       "      <th>std</th>\n",
       "      <td>7499.635658</td>\n",
       "      <td>7553.936759</td>\n",
       "      <td>7553.936759</td>\n",
       "      <td>10.407354</td>\n",
       "      <td>4.946279e+05</td>\n",
       "      <td>14087.453758</td>\n",
       "      <td>14087.445135</td>\n",
       "      <td>1.297158</td>\n",
       "      <td>1.142110</td>\n",
       "      <td>0.022284</td>\n",
       "      <td>...</td>\n",
       "      <td>3.632164</td>\n",
       "      <td>1.928753</td>\n",
       "      <td>1.248221</td>\n",
       "      <td>4.318338</td>\n",
       "      <td>1.489299</td>\n",
       "      <td>0.867440</td>\n",
       "      <td>3.010189</td>\n",
       "      <td>1.507793</td>\n",
       "      <td>0.868272</td>\n",
       "      <td>3.189814</td>\n",
       "    </tr>\n",
       "    <tr>\n",
       "      <th>min</th>\n",
       "      <td>1.000000</td>\n",
       "      <td>1.000000</td>\n",
       "      <td>1.000000</td>\n",
       "      <td>1.000000</td>\n",
       "      <td>4.831290e+05</td>\n",
       "      <td>1601.000000</td>\n",
       "      <td>1601.000000</td>\n",
       "      <td>0.000000</td>\n",
       "      <td>0.000000</td>\n",
       "      <td>0.000000</td>\n",
       "      <td>...</td>\n",
       "      <td>1.100000</td>\n",
       "      <td>1.030000</td>\n",
       "      <td>1.620000</td>\n",
       "      <td>1.080000</td>\n",
       "      <td>1.050000</td>\n",
       "      <td>1.450000</td>\n",
       "      <td>1.120000</td>\n",
       "      <td>1.040000</td>\n",
       "      <td>1.330000</td>\n",
       "      <td>1.120000</td>\n",
       "    </tr>\n",
       "    <tr>\n",
       "      <th>25%</th>\n",
       "      <td>6495.500000</td>\n",
       "      <td>4769.000000</td>\n",
       "      <td>4769.000000</td>\n",
       "      <td>9.000000</td>\n",
       "      <td>7.684365e+05</td>\n",
       "      <td>8475.000000</td>\n",
       "      <td>8475.000000</td>\n",
       "      <td>1.000000</td>\n",
       "      <td>0.000000</td>\n",
       "      <td>1.000000</td>\n",
       "      <td>...</td>\n",
       "      <td>2.500000</td>\n",
       "      <td>1.700000</td>\n",
       "      <td>3.300000</td>\n",
       "      <td>2.550000</td>\n",
       "      <td>1.670000</td>\n",
       "      <td>3.200000</td>\n",
       "      <td>2.500000</td>\n",
       "      <td>1.670000</td>\n",
       "      <td>3.250000</td>\n",
       "      <td>2.500000</td>\n",
       "    </tr>\n",
       "    <tr>\n",
       "      <th>50%</th>\n",
       "      <td>12990.000000</td>\n",
       "      <td>10257.000000</td>\n",
       "      <td>10257.000000</td>\n",
       "      <td>18.000000</td>\n",
       "      <td>1.147511e+06</td>\n",
       "      <td>8697.000000</td>\n",
       "      <td>8697.000000</td>\n",
       "      <td>1.000000</td>\n",
       "      <td>1.000000</td>\n",
       "      <td>1.000000</td>\n",
       "      <td>...</td>\n",
       "      <td>3.500000</td>\n",
       "      <td>2.150000</td>\n",
       "      <td>3.500000</td>\n",
       "      <td>3.500000</td>\n",
       "      <td>2.100000</td>\n",
       "      <td>3.300000</td>\n",
       "      <td>3.400000</td>\n",
       "      <td>2.100000</td>\n",
       "      <td>3.400000</td>\n",
       "      <td>3.400000</td>\n",
       "    </tr>\n",
       "    <tr>\n",
       "      <th>75%</th>\n",
       "      <td>19484.500000</td>\n",
       "      <td>17642.000000</td>\n",
       "      <td>17642.000000</td>\n",
       "      <td>27.000000</td>\n",
       "      <td>1.709852e+06</td>\n",
       "      <td>9925.000000</td>\n",
       "      <td>9925.000000</td>\n",
       "      <td>2.000000</td>\n",
       "      <td>2.000000</td>\n",
       "      <td>1.000000</td>\n",
       "      <td>...</td>\n",
       "      <td>5.250000</td>\n",
       "      <td>2.800000</td>\n",
       "      <td>4.000000</td>\n",
       "      <td>5.400000</td>\n",
       "      <td>2.650000</td>\n",
       "      <td>3.750000</td>\n",
       "      <td>5.000000</td>\n",
       "      <td>2.620000</td>\n",
       "      <td>3.750000</td>\n",
       "      <td>5.000000</td>\n",
       "    </tr>\n",
       "    <tr>\n",
       "      <th>max</th>\n",
       "      <td>25979.000000</td>\n",
       "      <td>24558.000000</td>\n",
       "      <td>24558.000000</td>\n",
       "      <td>38.000000</td>\n",
       "      <td>2.216672e+06</td>\n",
       "      <td>274581.000000</td>\n",
       "      <td>274581.000000</td>\n",
       "      <td>10.000000</td>\n",
       "      <td>9.000000</td>\n",
       "      <td>2.000000</td>\n",
       "      <td>...</td>\n",
       "      <td>41.000000</td>\n",
       "      <td>36.000000</td>\n",
       "      <td>26.000000</td>\n",
       "      <td>67.000000</td>\n",
       "      <td>21.000000</td>\n",
       "      <td>11.000000</td>\n",
       "      <td>34.000000</td>\n",
       "      <td>17.000000</td>\n",
       "      <td>13.000000</td>\n",
       "      <td>34.000000</td>\n",
       "    </tr>\n",
       "  </tbody>\n",
       "</table>\n",
       "<p>8 rows × 105 columns</p>\n",
       "</div>"
      ],
      "text/plain": [
       "                 id    country_id     league_id         stage  match_api_id  \\\n",
       "count  25979.000000  25979.000000  25979.000000  25979.000000  2.597900e+04   \n",
       "mean   12990.000000  11738.630317  11738.630317     18.242773  1.195429e+06   \n",
       "std     7499.635658   7553.936759   7553.936759     10.407354  4.946279e+05   \n",
       "min        1.000000      1.000000      1.000000      1.000000  4.831290e+05   \n",
       "25%     6495.500000   4769.000000   4769.000000      9.000000  7.684365e+05   \n",
       "50%    12990.000000  10257.000000  10257.000000     18.000000  1.147511e+06   \n",
       "75%    19484.500000  17642.000000  17642.000000     27.000000  1.709852e+06   \n",
       "max    25979.000000  24558.000000  24558.000000     38.000000  2.216672e+06   \n",
       "\n",
       "       home_team_api_id  away_team_api_id  home_team_goal  away_team_goal  \\\n",
       "count      25979.000000      25979.000000    25979.000000    25979.000000   \n",
       "mean        9984.371993       9984.475115        1.544594        1.160938   \n",
       "std        14087.453758      14087.445135        1.297158        1.142110   \n",
       "min         1601.000000       1601.000000        0.000000        0.000000   \n",
       "25%         8475.000000       8475.000000        1.000000        0.000000   \n",
       "50%         8697.000000       8697.000000        1.000000        1.000000   \n",
       "75%         9925.000000       9925.000000        2.000000        2.000000   \n",
       "max       274581.000000     274581.000000       10.000000        9.000000   \n",
       "\n",
       "       home_player_X1  ...           SJA           VCH           VCD  \\\n",
       "count    24158.000000  ...  17097.000000  22568.000000  22568.000000   \n",
       "mean         0.999586  ...      4.622343      2.668107      3.899048   \n",
       "std          0.022284  ...      3.632164      1.928753      1.248221   \n",
       "min          0.000000  ...      1.100000      1.030000      1.620000   \n",
       "25%          1.000000  ...      2.500000      1.700000      3.300000   \n",
       "50%          1.000000  ...      3.500000      2.150000      3.500000   \n",
       "75%          1.000000  ...      5.250000      2.800000      4.000000   \n",
       "max          2.000000  ...     41.000000     36.000000     26.000000   \n",
       "\n",
       "                VCA           GBH           GBD           GBA           BSH  \\\n",
       "count  22568.000000  14162.000000  14162.000000  14162.000000  14161.000000   \n",
       "mean       4.840281      2.498764      3.648189      4.353097      2.497894   \n",
       "std        4.318338      1.489299      0.867440      3.010189      1.507793   \n",
       "min        1.080000      1.050000      1.450000      1.120000      1.040000   \n",
       "25%        2.550000      1.670000      3.200000      2.500000      1.670000   \n",
       "50%        3.500000      2.100000      3.300000      3.400000      2.100000   \n",
       "75%        5.400000      2.650000      3.750000      5.000000      2.620000   \n",
       "max       67.000000     21.000000     11.000000     34.000000     17.000000   \n",
       "\n",
       "                BSD           BSA  \n",
       "count  14161.000000  14161.000000  \n",
       "mean       3.660742      4.405663  \n",
       "std        0.868272      3.189814  \n",
       "min        1.330000      1.120000  \n",
       "25%        3.250000      2.500000  \n",
       "50%        3.400000      3.400000  \n",
       "75%        3.750000      5.000000  \n",
       "max       13.000000     34.000000  \n",
       "\n",
       "[8 rows x 105 columns]"
      ]
     },
     "execution_count": 7,
     "metadata": {},
     "output_type": "execute_result"
    }
   ],
   "source": [
    "# a owerview of our dataset \n",
    "df.describe()"
   ]
  },
  {
   "cell_type": "markdown",
   "metadata": {},
   "source": [
    "## cleaning data "
   ]
  },
  {
   "cell_type": "code",
   "execution_count": 10,
   "metadata": {},
   "outputs": [],
   "source": [
    "# choosing the attribiutes that we need \n",
    "columns = ['id','country_id', 'league_id', 'stage', 'match_api_id', 'home_team_api_id', 'away_team_api_id', \n",
    "           'home_team_goal', 'away_team_goal', 'B365H', 'B365D', 'B365A', 'BWH', 'BWD', 'BWA', 'IWH', \n",
    "           'IWD', 'IWA', 'LBH', 'LBD', 'LBA', 'PSH', 'PSD', 'PSA', 'WHH', 'WHD', 'WHA', 'SJH', 'SJD', \n",
    "           'SJA', 'VCH', 'VCD', 'VCA', 'GBH', 'GBD', 'GBA', 'BSH', 'BSD', 'BSA' ]\n"
   ]
  },
  {
   "cell_type": "code",
   "execution_count": 9,
   "metadata": {},
   "outputs": [
    {
     "data": {
      "text/plain": [
       "104"
      ]
     },
     "execution_count": 9,
     "metadata": {},
     "output_type": "execute_result"
    }
   ],
   "source": [
    "df.isna().any().sum()"
   ]
  },
  {
   "cell_type": "code",
   "execution_count": 16,
   "metadata": {},
   "outputs": [],
   "source": [
    "X = df[columns]"
   ]
  },
  {
   "cell_type": "code",
   "execution_count": 17,
   "metadata": {},
   "outputs": [
    {
     "name": "stderr",
     "output_type": "stream",
     "text": [
      "C:\\ProgramData\\Anaconda3\\lib\\site-packages\\ipykernel_launcher.py:1: SettingWithCopyWarning: \n",
      "A value is trying to be set on a copy of a slice from a DataFrame\n",
      "\n",
      "See the caveats in the documentation: https://pandas.pydata.org/pandas-docs/stable/user_guide/indexing.html#returning-a-view-versus-a-copy\n",
      "  \"\"\"Entry point for launching an IPython kernel.\n"
     ]
    }
   ],
   "source": [
    "X.dropna(subset = columns, inplace = True)"
   ]
  },
  {
   "cell_type": "code",
   "execution_count": 21,
   "metadata": {},
   "outputs": [
    {
     "data": {
      "text/plain": [
       "(2756, 39)"
      ]
     },
     "execution_count": 21,
     "metadata": {},
     "output_type": "execute_result"
    }
   ],
   "source": [
    "X.shape"
   ]
  },
  {
   "cell_type": "code",
   "execution_count": 19,
   "metadata": {},
   "outputs": [
    {
     "data": {
      "text/plain": [
       "0"
      ]
     },
     "execution_count": 19,
     "metadata": {},
     "output_type": "execute_result"
    }
   ],
   "source": [
    "X.isna().any().sum()"
   ]
  },
  {
   "cell_type": "code",
   "execution_count": 22,
   "metadata": {},
   "outputs": [],
   "source": [
    "# define a function to determine the result of match with binary \n",
    "def matchresult(homeScore, awayScore):\n",
    "    if(homeScore > awayScore):\n",
    "        return 1\n",
    "    elif(homeScore < awayScore):\n",
    "        return 2\n",
    "    else:\n",
    "        return 0"
   ]
  },
  {
   "cell_type": "code",
   "execution_count": 23,
   "metadata": {},
   "outputs": [],
   "source": [
    "#Discard the features, so as not to impair the accuracy of the model\n",
    "X = X.drop(['id', 'country_id', 'league_id', 'stage', 'match_api_id',\n",
    "       'home_team_api_id', 'away_team_api_id'], axis=1)"
   ]
  },
  {
   "cell_type": "code",
   "execution_count": 24,
   "metadata": {},
   "outputs": [],
   "source": [
    "X['result'] = df.apply(lambda r: matchresult(r['home_team_goal'], r['away_team_goal']), axis=1)\n",
    "y = X['result']\n",
    "#Discard the features, so as not to impair the accuracy of the model\n",
    "X = X.drop('result',1)\n",
    "X = X.drop('home_team_goal',1)\n",
    "X = X.drop('away_team_goal',1)"
   ]
  },
  {
   "cell_type": "code",
   "execution_count": 26,
   "metadata": {},
   "outputs": [
    {
     "data": {
      "text/plain": [
       "997    2\n",
       "998    1\n",
       "999    2\n",
       "Name: result, dtype: int64"
      ]
     },
     "execution_count": 26,
     "metadata": {},
     "output_type": "execute_result"
    }
   ],
   "source": [
    "y.head(3)"
   ]
  },
  {
   "cell_type": "markdown",
   "metadata": {},
   "source": [
    "#### implemention of Algorithm "
   ]
  },
  {
   "cell_type": "code",
   "execution_count": 27,
   "metadata": {},
   "outputs": [
    {
     "data": {
      "text/plain": [
       "RandomForestClassifier(bootstrap=True, ccp_alpha=0.0, class_weight=None,\n",
       "                       criterion='gini', max_depth=None, max_features='auto',\n",
       "                       max_leaf_nodes=None, max_samples=None,\n",
       "                       min_impurity_decrease=0.0, min_impurity_split=None,\n",
       "                       min_samples_leaf=1, min_samples_split=2,\n",
       "                       min_weight_fraction_leaf=0.0, n_estimators=100,\n",
       "                       n_jobs=None, oob_score=False, random_state=None,\n",
       "                       verbose=0, warm_start=False)"
      ]
     },
     "execution_count": 27,
     "metadata": {},
     "output_type": "execute_result"
    }
   ],
   "source": [
    "xtrain3,xtest3, ytrain3,ytest3 = train_test_split(X,y,test_size = 0.40, random_state= 41)\n",
    "model = RandomForestClassifier()\n",
    "model.fit(xtrain3 ,ytrain3)"
   ]
  },
  {
   "cell_type": "code",
   "execution_count": 29,
   "metadata": {},
   "outputs": [
    {
     "data": {
      "text/plain": [
       "0.4741613780598368"
      ]
     },
     "execution_count": 29,
     "metadata": {},
     "output_type": "execute_result"
    }
   ],
   "source": [
    "score = model.score(xtest3, ytest3)\n",
    "score"
   ]
  },
  {
   "cell_type": "markdown",
   "metadata": {},
   "source": [
    "### Features importance for third examination"
   ]
  },
  {
   "cell_type": "code",
   "execution_count": 30,
   "metadata": {},
   "outputs": [],
   "source": [
    "feature_imp = pd.Series(model.feature_importances_,index=X.columns).sort_values(ascending=False)"
   ]
  },
  {
   "cell_type": "code",
   "execution_count": 31,
   "metadata": {},
   "outputs": [
    {
     "name": "stderr",
     "output_type": "stream",
     "text": [
      "No handles with labels found to put in legend.\n"
     ]
    },
    {
     "data": {
      "image/png": "[encoded data removed]",
      "text/plain": [
       "<Figure size 432x288 with 1 Axes>"
      ]
     },
     "metadata": {
      "needs_background": "light"
     },
     "output_type": "display_data"
    }
   ],
   "source": [
    "# Represent the most representative characteristics for the model\n",
    "import matplotlib.pyplot as plt\n",
    "import seaborn as sns\n",
    "%matplotlib inline\n",
    "# Creating a bar plot\n",
    "sns.barplot(x=feature_imp, y=feature_imp.index)\n",
    "# Add labels to your graph\n",
    "plt.xlabel('Feature Importance Score', color = \"white\")\n",
    "plt.ylabel('Features', color = \"white\")\n",
    "plt.title(\"Visualizing Important Features\", color = \"white\")\n",
    "plt.legend()\n",
    "plt.show()"
   ]
  },
  {
   "cell_type": "code",
   "execution_count": 32,
   "metadata": {},
   "outputs": [],
   "source": [
    "def Evaluation_Models(X, y):\n",
    "   \n",
    "    #Name of the different classification algorithms used in the tests\n",
    "    names = [\"Decision Tree\", \"Random Forest\",  \"AdaBoost\", \"Naive Bayes\"]\n",
    "\n",
    "    classifiers = [\n",
    "        \n",
    "        DecisionTreeClassifier(),\n",
    "        RandomForestClassifier(),\n",
    "        AdaBoostClassifier(),\n",
    "        GaussianNB(),\n",
    "        ]\n",
    "    X_train_N, X_test_N, y_train_N, y_test_N = train_test_split(X, y, test_size=.40, random_state=0)\n",
    "    \n",
    "    # Iterar sobre clasificadores\n",
    "    for name, clf in zip(names, classifiers):\n",
    "        clf.fit(X_train_N, y_train_N)\n",
    "        score = clf.score(X_test_N, y_test_N)\n",
    "   \n",
    "        print(\"%s: \\n   %f\" % (name, score))"
   ]
  },
  {
   "cell_type": "code",
   "execution_count": 33,
   "metadata": {},
   "outputs": [
    {
     "name": "stdout",
     "output_type": "stream",
     "text": [
      "Decision Tree: \n",
      "   0.419764\n",
      "Random Forest: \n",
      "   0.495920\n",
      "AdaBoost: \n",
      "   0.495920\n",
      "Naive Bayes: \n",
      "   0.418858\n"
     ]
    }
   ],
   "source": [
    "Evaluation_Models(X, y)"
   ]
  },
  {
   "cell_type": "code",
   "execution_count": 34,
   "metadata": {},
   "outputs": [
    {
     "name": "stdout",
     "output_type": "stream",
     "text": [
      "Accuracy: 0.5131459655485041\n"
     ]
    }
   ],
   "source": [
    "from sklearn import svm\n",
    "clf = svm.SVC(kernel='linear')\n",
    "clf.fit(xtrain3, ytrain3) \n",
    "y_pred = clf.predict(xtest3)\n",
    "from sklearn import metrics\n",
    "print(\"Accuracy:\",metrics.accuracy_score(ytest3, y_pred))"
   ]
  }
 ],
 "metadata": {
  "kernelspec": {
   "display_name": "Python 3",
   "language": "python",
   "name": "python3"
  },
  "language_info": {
   "codemirror_mode": {
    "name": "ipython",
    "version": 3
   },
   "file_extension": ".py",
   "mimetype": "text/x-python",
   "name": "python",
   "nbconvert_exporter": "python",
   "pygments_lexer": "ipython3",
   "version": "3.7.6"
  }
 },
 "nbformat": 4,
 "nbformat_minor": 4
}
